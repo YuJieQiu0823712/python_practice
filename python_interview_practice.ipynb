{
 "cells": [
  {
   "cell_type": "markdown",
   "metadata": {},
   "source": [
    "1. Converting an interger into decimals"
   ]
  },
  {
   "cell_type": "code",
   "execution_count": 4,
   "metadata": {},
   "outputs": [
    {
     "name": "stdout",
     "output_type": "stream",
     "text": [
      "10\n",
      "<class 'decimal.Decimal'>\n"
     ]
    }
   ],
   "source": [
    "import decimal\n",
    "x = 10\n",
    "print(decimal.Decimal(x))\n",
    "print(type(decimal.Decimal(x)))"
   ]
  },
  {
   "cell_type": "markdown",
   "metadata": {},
   "source": [
    "2. Converting a string of integers into decimals"
   ]
  },
  {
   "cell_type": "code",
   "execution_count": 5,
   "metadata": {},
   "outputs": [
    {
     "name": "stdout",
     "output_type": "stream",
     "text": [
      "12345\n",
      "<class 'decimal.Decimal'>\n"
     ]
    }
   ],
   "source": [
    "import decimal\n",
    "x = '12345'\n",
    "print(decimal.Decimal(x))\n",
    "print(type(decimal.Decimal(x)))"
   ]
  },
  {
   "cell_type": "markdown",
   "metadata": {},
   "source": [
    "3. Reversing a string using an extended slicing technique"
   ]
  },
  {
   "cell_type": "code",
   "execution_count": 6,
   "metadata": {},
   "outputs": [
    {
     "name": "stdout",
     "output_type": "stream",
     "text": [
      "gnimmargorp\n"
     ]
    }
   ],
   "source": [
    "string = 'programming'\n",
    "print(string[::-1])"
   ]
  },
  {
   "cell_type": "markdown",
   "metadata": {},
   "source": [
    "4. Counting VOWELS in a given word"
   ]
  },
  {
   "cell_type": "code",
   "execution_count": 7,
   "metadata": {},
   "outputs": [
    {
     "name": "stdout",
     "output_type": "stream",
     "text": [
      "3\n"
     ]
    }
   ],
   "source": [
    "vowel = ['a','e','i','o','u']\n",
    "word = 'programming'\n",
    "count = 0\n",
    "for chr in word:\n",
    "    if chr in vowel:\n",
    "        count += 1\n",
    "print(count)"
   ]
  },
  {
   "cell_type": "markdown",
   "metadata": {},
   "source": [
    "5. Counting CONSONANTS in a given word"
   ]
  },
  {
   "cell_type": "code",
   "execution_count": 8,
   "metadata": {},
   "outputs": [
    {
     "name": "stdout",
     "output_type": "stream",
     "text": [
      "8\n"
     ]
    }
   ],
   "source": [
    "vowel = ['a','e','i','o','u']\n",
    "word = 'programming'\n",
    "count = 0\n",
    "for char in word:\n",
    "    if char not in vowel:\n",
    "        count += 1\n",
    "print(count)"
   ]
  },
  {
   "cell_type": "markdown",
   "metadata": {},
   "source": [
    "6. Counting the number of occurances of a charcter in a String"
   ]
  },
  {
   "cell_type": "code",
   "execution_count": 10,
   "metadata": {},
   "outputs": [
    {
     "name": "stdout",
     "output_type": "stream",
     "text": [
      "2\n"
     ]
    }
   ],
   "source": [
    "word = 'programming'\n",
    "c = 'm'\n",
    "count = 0\n",
    "for char in word:\n",
    "    if char == c:\n",
    "        count += 1\n",
    "print(count)"
   ]
  },
  {
   "cell_type": "markdown",
   "metadata": {},
   "source": [
    "7. Write FIBONACCI series"
   ]
  },
  {
   "cell_type": "code",
   "execution_count": 22,
   "metadata": {},
   "outputs": [
    {
     "name": "stdout",
     "output_type": "stream",
     "text": [
      "0, 1, 1, 2, 3, 5, 8\n"
     ]
    }
   ],
   "source": [
    "# 0 1 1 2 3 5 8\n",
    "fib = [0,1]\n",
    "n = 5\n",
    "for i in range(n):\n",
    "    fib.append(fib[-1] + fib[-2]) \n",
    "\n",
    "# print(str(e) for e in fib) => <generator object <genexpr> at 0x000001DA3D1149E0>\n",
    "# Create a generator object, allowing for efficient iteration over large datasets without storing the entire sequence in memory.\n",
    "\n",
    "print(', '.join(str(e) for e in fib)) # converting the list of integers to string\n"
   ]
  },
  {
   "cell_type": "markdown",
   "metadata": {},
   "source": [
    "8. Finding the maximum number in a list"
   ]
  },
  {
   "cell_type": "code",
   "execution_count": 24,
   "metadata": {},
   "outputs": [
    {
     "name": "stdout",
     "output_type": "stream",
     "text": [
      "88\n"
     ]
    }
   ],
   "source": [
    "numbers = [15,6,45,6,88,5]\n",
    "max = numbers[0]\n",
    "for num in numbers:\n",
    "    if num > max:\n",
    "        max = num\n",
    "print(max)       "
   ]
  },
  {
   "cell_type": "markdown",
   "metadata": {},
   "source": [
    "9. Finding the minumum number is a list"
   ]
  },
  {
   "cell_type": "code",
   "execution_count": 25,
   "metadata": {},
   "outputs": [
    {
     "name": "stdout",
     "output_type": "stream",
     "text": [
      "5\n"
     ]
    }
   ],
   "source": [
    "numbers = [15,6,45,6,88,5]\n",
    "min = numbers[0]\n",
    "for num in numbers:\n",
    "    if min > num:\n",
    "        min = num\n",
    "print(min)"
   ]
  },
  {
   "cell_type": "markdown",
   "metadata": {},
   "source": [
    "10.  Finding the middel element in a list"
   ]
  },
  {
   "cell_type": "code",
   "execution_count": 28,
   "metadata": {},
   "outputs": [
    {
     "name": "stdout",
     "output_type": "stream",
     "text": [
      "6\n"
     ]
    }
   ],
   "source": [
    "numbers = [15,6,45,6,88,5]\n",
    "midElement = int(len(numbers)/2)\n",
    "print(numbers[midElement])"
   ]
  },
  {
   "cell_type": "markdown",
   "metadata": {},
   "source": [
    "11. Converting a list into a string"
   ]
  },
  {
   "cell_type": "code",
   "execution_count": 30,
   "metadata": {},
   "outputs": [
    {
     "name": "stdout",
     "output_type": "stream",
     "text": [
      "HAPPY\n",
      "<class 'str'>\n"
     ]
    }
   ],
   "source": [
    "list = [\"H\",\"A\",\"P\",\"P\",\"Y\"]\n",
    "string = \"\".join(list)\n",
    "print(string)\n",
    "print(type(string))"
   ]
  },
  {
   "cell_type": "markdown",
   "metadata": {},
   "source": [
    "12. Adding two list elements together"
   ]
  },
  {
   "cell_type": "code",
   "execution_count": 32,
   "metadata": {},
   "outputs": [
    {
     "name": "stdout",
     "output_type": "stream",
     "text": [
      "[5, 7, 9]\n"
     ]
    }
   ],
   "source": [
    "lst1 = [1,2,3]\n",
    "lst2 = [4,5,6]\n",
    "res_list = []\n",
    "for i in range(len(lst1)):\n",
    "    res_list.append(lst1[i] + lst2[i])\n",
    "print(res_list)"
   ]
  },
  {
   "cell_type": "markdown",
   "metadata": {},
   "source": [
    "13. Comparing two strings for ANAGRAMS"
   ]
  },
  {
   "cell_type": "code",
   "execution_count": 2,
   "metadata": {},
   "outputs": [
    {
     "name": "stdout",
     "output_type": "stream",
     "text": [
      "False\n"
     ]
    }
   ],
   "source": [
    "str1 = \"Programming\"\n",
    "str2 = \"Python\"\n",
    "\n",
    "str1 = str1.replace(\" \", \"\").upper()\n",
    "str2 = str2.replace(\" \", \"\").upper()\n",
    "\n",
    "if sorted(str1) == sorted(str2):\n",
    "    print(\"True\")\n",
    "else:\n",
    "    print(\"False\")"
   ]
  },
  {
   "cell_type": "markdown",
   "metadata": {},
   "source": [
    "14. Checking for PALINDROME using extended slicing technique"
   ]
  },
  {
   "cell_type": "code",
   "execution_count": 3,
   "metadata": {},
   "outputs": [
    {
     "name": "stdout",
     "output_type": "stream",
     "text": [
      "True\n"
     ]
    }
   ],
   "source": [
    "str1 = \"Kayak\"\n",
    "str1 = \"Kayak\".lower()\n",
    "if str1 == str1[::-1]:\n",
    "    print(\"True\")\n",
    "else:\n",
    "    print(\"False\")"
   ]
  },
  {
   "cell_type": "markdown",
   "metadata": {},
   "source": [
    "15. Counting the white spaces in a string"
   ]
  },
  {
   "cell_type": "code",
   "execution_count": 4,
   "metadata": {},
   "outputs": [
    {
     "name": "stdout",
     "output_type": "stream",
     "text": [
      "4\n"
     ]
    }
   ],
   "source": [
    "string = \"P r gra mm ing\"\n",
    "print(string.count(\" \"))"
   ]
  },
  {
   "cell_type": "markdown",
   "metadata": {},
   "source": [
    "16. Counting digits, letters and spaces in a string"
   ]
  },
  {
   "cell_type": "code",
   "execution_count": 14,
   "metadata": {},
   "outputs": [
    {
     "name": "stdout",
     "output_type": "stream",
     "text": [
      "1\n",
      "8\n",
      "2\n"
     ]
    }
   ],
   "source": [
    "import re\n",
    "\n",
    "name = \"Python is 1\"\n",
    "digitCount = re.sub(\"[^0-9]\",\"\",name) #return 1\n",
    "letterCount = re.sub(\"[^a-zA-z]\",\"\",name) #return Pythonis\n",
    "spaceCount = re.findall(\"[\\s]\",name) #return a list [' ', ' ']\n",
    "\n",
    "print(len(digitCount))\n",
    "print(len(letterCount))\n",
    "print(len(spaceCount))\n"
   ]
  },
  {
   "cell_type": "markdown",
   "metadata": {},
   "source": [
    "17. Counting special characters in a string"
   ]
  },
  {
   "cell_type": "code",
   "execution_count": 3,
   "metadata": {},
   "outputs": [
    {
     "name": "stdout",
     "output_type": "stream",
     "text": [
      "4\n"
     ]
    }
   ],
   "source": [
    "def count_sp_char(string):\n",
    "    sp_char = \"!@#$%^&*()<>?\\/[]{};:~`\"\n",
    "    count = 0\n",
    "    for i in string:\n",
    "        if i in sp_char:\n",
    "            count += 1\n",
    "    return count\n",
    "\n",
    "text = \"Hello! How are you? #specialchars! 123\"\n",
    "result = count_sp_char(text)\n",
    "print(result)"
   ]
  },
  {
   "cell_type": "markdown",
   "metadata": {},
   "source": [
    "18. Removing all whitespace in a string"
   ]
  },
  {
   "cell_type": "code",
   "execution_count": 11,
   "metadata": {},
   "outputs": [
    {
     "name": "stdout",
     "output_type": "stream",
     "text": [
      "CODE\n"
     ]
    }
   ],
   "source": [
    "import re\n",
    "\n",
    "string = \"C O D E\"\n",
    "space = re.compile(r'\\s+')\n",
    "result = re.sub(space,\"\",string)\n",
    "print(result)"
   ]
  },
  {
   "cell_type": "code",
   "execution_count": 12,
   "metadata": {},
   "outputs": [
    {
     "name": "stdout",
     "output_type": "stream",
     "text": [
      "CODE\n"
     ]
    }
   ],
   "source": [
    "string=\"C O D E\"\n",
    "result2 = \"\".join(char for char in string if char != \" \")\n",
    "print(result2)"
   ]
  },
  {
   "cell_type": "code",
   "execution_count": 16,
   "metadata": {},
   "outputs": [
    {
     "name": "stdout",
     "output_type": "stream",
     "text": [
      "CODE\n"
     ]
    }
   ],
   "source": [
    "string = \"C O D E\"\n",
    "result3 = string.replace(\" \",\"\")\n",
    "print(result3)"
   ]
  },
  {
   "cell_type": "markdown",
   "metadata": {},
   "source": [
    "**19.** Building a pyramid in python"
   ]
  },
  {
   "cell_type": "code",
   "execution_count": 28,
   "metadata": {},
   "outputs": [
    {
     "name": "stdout",
     "output_type": "stream",
     "text": [
      "---*\n",
      "--***\n",
      "-*****\n"
     ]
    }
   ],
   "source": [
    "def pyramid(n):\n",
    "    for i in range(n):\n",
    "        for j in range(i,n):\n",
    "            #print(\"-\",end=\"+\") # -+-+-+-+-+-+\n",
    "            print(\"-\",end=\"\") \n",
    "        for j in range(i+1):\n",
    "            print(\"*\",end=\"\") # ---*--**-***\n",
    "        for j in range(i):\n",
    "            print(\"*\",end=\"\") # ---*--***-*****\n",
    "        print(\"\")\n",
    "\n",
    "pyramid(3)"
   ]
  },
  {
   "cell_type": "code",
   "execution_count": 43,
   "metadata": {},
   "outputs": [
    {
     "name": "stdout",
     "output_type": "stream",
     "text": [
      "--*\n",
      "-***\n",
      "*****\n",
      "-***\n",
      "--*\n"
     ]
    }
   ],
   "source": [
    "num = int(input(\"enter odd number\")) #5\n",
    "cnt = num//2 #2\n",
    "scnt = 1\n",
    "for i in range(cnt+1):\n",
    "    print(cnt*\"-\" + \"*\"*scnt)\n",
    "    cnt=cnt-1\n",
    "    scnt=scnt+2\n",
    "# --*\n",
    "# -***\n",
    "# *****\n",
    "\n",
    "scnt = num-2\n",
    "cnt = 1\n",
    "for i in range(num//2):\n",
    "    print(cnt*\"-\" + \"*\"*scnt)\n",
    "    scnt = scnt-2\n",
    "    cnt = cnt+1"
   ]
  },
  {
   "cell_type": "markdown",
   "metadata": {},
   "source": [
    "20. Randomizing the items of a list in python"
   ]
  },
  {
   "cell_type": "code",
   "execution_count": 52,
   "metadata": {},
   "outputs": [
    {
     "name": "stdout",
     "output_type": "stream",
     "text": [
      "['easy', 'is', 'python']\n"
     ]
    }
   ],
   "source": [
    "from random import shuffle\n",
    "list = ['python','is','easy']\n",
    "shuffle(list)\n",
    "print(list)"
   ]
  },
  {
   "cell_type": "markdown",
   "metadata": {},
   "source": [
    "**21.** Create a generator to produce first n prime numbers"
   ]
  },
  {
   "cell_type": "code",
   "execution_count": 9,
   "metadata": {},
   "outputs": [
    {
     "name": "stdout",
     "output_type": "stream",
     "text": [
      "2 3 5 7 11 13 17 19 23 29 "
     ]
    }
   ],
   "source": [
    "def isprime(num):\n",
    "    for i in range(2,num):\n",
    "        if num%i == 0:\n",
    "            return False\n",
    "    return True\n",
    "\n",
    "def prime_generator(n):\n",
    "    num = 2\n",
    "    while n:\n",
    "        if isprime(num):\n",
    "            yield num\n",
    "            n -= 1\n",
    "        num += 1\n",
    "\n",
    "x = int(input(\"Enter no. of prime numbers required\"))\n",
    "item = prime_generator(x)\n",
    "for e in item:\n",
    "    print(e, end=\" \")"
   ]
  },
  {
   "cell_type": "markdown",
   "metadata": {},
   "source": [
    "**22.** Implementing variable length arguments in python"
   ]
  },
  {
   "cell_type": "code",
   "execution_count": 1,
   "metadata": {},
   "outputs": [
    {
     "name": "stdout",
     "output_type": "stream",
     "text": [
      "31.0\n"
     ]
    }
   ],
   "source": [
    "def average(*t): # *t for tuple of variable length\n",
    "    avg = sum(t)/len(t)\n",
    "    return avg\n",
    "\n",
    "result = average(32,5,65,22)\n",
    "print(result)"
   ]
  },
  {
   "cell_type": "code",
   "execution_count": 2,
   "metadata": {},
   "outputs": [
    {
     "name": "stdout",
     "output_type": "stream",
     "text": [
      "31.0\n"
     ]
    }
   ],
   "source": [
    "def average_with_kwargs(**kwargs): # kwargs for a dictionary of variable length\n",
    "    values = list(kwargs.values())\n",
    "    avg = sum(values) / len(values)\n",
    "    return avg\n",
    "\n",
    "result = average_with_kwargs(num1=32,num2=5,num3=65,num4=22)\n",
    "print(result)"
   ]
  },
  {
   "cell_type": "markdown",
   "metadata": {},
   "source": [
    "23. Creating instance member variables in python"
   ]
  },
  {
   "cell_type": "code",
   "execution_count": 6,
   "metadata": {},
   "outputs": [
    {
     "name": "stdout",
     "output_type": "stream",
     "text": [
      "{'a': 5, 'b': 10, 'c': 15}\n",
      "{'a': 5}\n"
     ]
    }
   ],
   "source": [
    "class Test:\n",
    "    def __init__(self):\n",
    "        # 1st instance variable inside init funtion\n",
    "        self.a = 5\n",
    "    def f1(self):\n",
    "        # 2nd instance variable inside function f1\n",
    "        self.b = 10\n",
    "\n",
    "t1 = Test()\n",
    "t2 = Test()\n",
    "t1.f1()\n",
    "# 3rd instance variable\n",
    "t1.c = 15\n",
    "print(t1.__dict__)\n",
    "print(t2.__dict__)"
   ]
  },
  {
   "cell_type": "markdown",
   "metadata": {},
   "source": [
    "**24.** Addition using Lambda functions"
   ]
  },
  {
   "cell_type": "code",
   "execution_count": 9,
   "metadata": {},
   "outputs": [
    {
     "name": "stdout",
     "output_type": "stream",
     "text": [
      "10\n",
      "10\n"
     ]
    }
   ],
   "source": [
    "# Lambda function to add two variables\n",
    "f = lambda a,b : a+b\n",
    "result = f(3,7)\n",
    "print(result)\n",
    "#OR\n",
    "print((lambda a,b : a+b) (3,7))"
   ]
  },
  {
   "cell_type": "markdown",
   "metadata": {},
   "source": [
    "25. Finding factorial using lambda function"
   ]
  },
  {
   "cell_type": "code",
   "execution_count": null,
   "metadata": {},
   "outputs": [],
   "source": []
  }
 ],
 "metadata": {
  "kernelspec": {
   "display_name": "pytorch",
   "language": "python",
   "name": "python3"
  },
  "language_info": {
   "codemirror_mode": {
    "name": "ipython",
    "version": 3
   },
   "file_extension": ".py",
   "mimetype": "text/x-python",
   "name": "python",
   "nbconvert_exporter": "python",
   "pygments_lexer": "ipython3",
   "version": "3.10.0"
  }
 },
 "nbformat": 4,
 "nbformat_minor": 2
}
