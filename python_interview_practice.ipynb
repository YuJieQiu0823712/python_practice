{
 "cells": [
  {
   "cell_type": "markdown",
   "metadata": {},
   "source": [
    "1. Converting an interger into decimals"
   ]
  },
  {
   "cell_type": "code",
   "execution_count": 4,
   "metadata": {},
   "outputs": [
    {
     "name": "stdout",
     "output_type": "stream",
     "text": [
      "10\n",
      "<class 'decimal.Decimal'>\n"
     ]
    }
   ],
   "source": [
    "import decimal\n",
    "x = 10\n",
    "print(decimal.Decimal(x))\n",
    "print(type(decimal.Decimal(x)))"
   ]
  },
  {
   "cell_type": "markdown",
   "metadata": {},
   "source": [
    "2. Converting a string of integers into decimals"
   ]
  },
  {
   "cell_type": "code",
   "execution_count": 5,
   "metadata": {},
   "outputs": [
    {
     "name": "stdout",
     "output_type": "stream",
     "text": [
      "12345\n",
      "<class 'decimal.Decimal'>\n"
     ]
    }
   ],
   "source": [
    "import decimal\n",
    "x = '12345'\n",
    "print(decimal.Decimal(x))\n",
    "print(type(decimal.Decimal(x)))"
   ]
  },
  {
   "cell_type": "markdown",
   "metadata": {},
   "source": [
    "3. Reversing a string using an extended slicing technique"
   ]
  },
  {
   "cell_type": "code",
   "execution_count": 6,
   "metadata": {},
   "outputs": [
    {
     "name": "stdout",
     "output_type": "stream",
     "text": [
      "gnimmargorp\n"
     ]
    }
   ],
   "source": [
    "string = 'programming'\n",
    "print(string[::-1])"
   ]
  },
  {
   "cell_type": "markdown",
   "metadata": {},
   "source": [
    "4. Counting VOWELS in a given word"
   ]
  },
  {
   "cell_type": "code",
   "execution_count": 7,
   "metadata": {},
   "outputs": [
    {
     "name": "stdout",
     "output_type": "stream",
     "text": [
      "3\n"
     ]
    }
   ],
   "source": [
    "vowel = ['a','e','i','o','u']\n",
    "word = 'programming'\n",
    "count = 0\n",
    "for chr in word:\n",
    "    if chr in vowel:\n",
    "        count += 1\n",
    "print(count)"
   ]
  },
  {
   "cell_type": "markdown",
   "metadata": {},
   "source": [
    "5. Counting CONSONANTS in a given word"
   ]
  },
  {
   "cell_type": "code",
   "execution_count": 8,
   "metadata": {},
   "outputs": [
    {
     "name": "stdout",
     "output_type": "stream",
     "text": [
      "8\n"
     ]
    }
   ],
   "source": [
    "vowel = ['a','e','i','o','u']\n",
    "word = 'programming'\n",
    "count = 0\n",
    "for char in word:\n",
    "    if char not in vowel:\n",
    "        count += 1\n",
    "print(count)"
   ]
  },
  {
   "cell_type": "markdown",
   "metadata": {},
   "source": [
    "6. Counting the number of occurances of a charcter in a String"
   ]
  },
  {
   "cell_type": "code",
   "execution_count": 10,
   "metadata": {},
   "outputs": [
    {
     "name": "stdout",
     "output_type": "stream",
     "text": [
      "2\n"
     ]
    }
   ],
   "source": [
    "word = 'programming'\n",
    "c = 'm'\n",
    "count = 0\n",
    "for char in word:\n",
    "    if char == c:\n",
    "        count += 1\n",
    "print(count)"
   ]
  },
  {
   "cell_type": "markdown",
   "metadata": {},
   "source": [
    "7. Write FIBONACCI series"
   ]
  },
  {
   "cell_type": "code",
   "execution_count": 22,
   "metadata": {},
   "outputs": [
    {
     "name": "stdout",
     "output_type": "stream",
     "text": [
      "0, 1, 1, 2, 3, 5, 8\n"
     ]
    }
   ],
   "source": [
    "# 0 1 1 2 3 5 8\n",
    "fib = [0,1]\n",
    "n = 5\n",
    "for i in range(n):\n",
    "    fib.append(fib[-1] + fib[-2]) \n",
    "\n",
    "# print(str(e) for e in fib) => <generator object <genexpr> at 0x000001DA3D1149E0>\n",
    "# Create a generator object, allowing for efficient iteration over large datasets without storing the entire sequence in memory.\n",
    "\n",
    "print(', '.join(str(e) for e in fib)) # converting the list of integers to string\n"
   ]
  },
  {
   "cell_type": "markdown",
   "metadata": {},
   "source": [
    "8. Finding the maximum number in a list"
   ]
  },
  {
   "cell_type": "code",
   "execution_count": 24,
   "metadata": {},
   "outputs": [
    {
     "name": "stdout",
     "output_type": "stream",
     "text": [
      "88\n"
     ]
    }
   ],
   "source": [
    "numbers = [15,6,45,6,88,5]\n",
    "max = numbers[0]\n",
    "for num in numbers:\n",
    "    if num > max:\n",
    "        max = num\n",
    "print(max)       "
   ]
  },
  {
   "cell_type": "markdown",
   "metadata": {},
   "source": [
    "9. Finding the minumum number is a list"
   ]
  },
  {
   "cell_type": "code",
   "execution_count": 25,
   "metadata": {},
   "outputs": [
    {
     "name": "stdout",
     "output_type": "stream",
     "text": [
      "5\n"
     ]
    }
   ],
   "source": [
    "numbers = [15,6,45,6,88,5]\n",
    "min = numbers[0]\n",
    "for num in numbers:\n",
    "    if min > num:\n",
    "        min = num\n",
    "print(min)"
   ]
  },
  {
   "cell_type": "markdown",
   "metadata": {},
   "source": [
    "10.  Finding the middel element in a list"
   ]
  },
  {
   "cell_type": "code",
   "execution_count": 28,
   "metadata": {},
   "outputs": [
    {
     "name": "stdout",
     "output_type": "stream",
     "text": [
      "6\n"
     ]
    }
   ],
   "source": [
    "numbers = [15,6,45,6,88,5]\n",
    "midElement = int(len(numbers)/2)\n",
    "print(numbers[midElement])"
   ]
  },
  {
   "cell_type": "markdown",
   "metadata": {},
   "source": [
    "11. Converting a list into a string"
   ]
  },
  {
   "cell_type": "code",
   "execution_count": 30,
   "metadata": {},
   "outputs": [
    {
     "name": "stdout",
     "output_type": "stream",
     "text": [
      "HAPPY\n",
      "<class 'str'>\n"
     ]
    }
   ],
   "source": [
    "list = [\"H\",\"A\",\"P\",\"P\",\"Y\"]\n",
    "string = \"\".join(list)\n",
    "print(string)\n",
    "print(type(string))"
   ]
  },
  {
   "cell_type": "markdown",
   "metadata": {},
   "source": [
    "12. Adding two list elements together"
   ]
  },
  {
   "cell_type": "code",
   "execution_count": 32,
   "metadata": {},
   "outputs": [
    {
     "name": "stdout",
     "output_type": "stream",
     "text": [
      "[5, 7, 9]\n"
     ]
    }
   ],
   "source": [
    "lst1 = [1,2,3]\n",
    "lst2 = [4,5,6]\n",
    "res_list = []\n",
    "for i in range(len(lst1)):\n",
    "    res_list.append(lst1[i] + lst2[i])\n",
    "print(res_list)"
   ]
  },
  {
   "cell_type": "markdown",
   "metadata": {},
   "source": [
    "13. Comparing two strings for ANAGRAMS"
   ]
  },
  {
   "cell_type": "code",
   "execution_count": 2,
   "metadata": {},
   "outputs": [
    {
     "name": "stdout",
     "output_type": "stream",
     "text": [
      "False\n"
     ]
    }
   ],
   "source": [
    "str1 = \"Programming\"\n",
    "str2 = \"Python\"\n",
    "\n",
    "str1 = str1.replace(\" \", \"\").upper()\n",
    "str2 = str2.replace(\" \", \"\").upper()\n",
    "\n",
    "if sorted(str1) == sorted(str2):\n",
    "    print(\"True\")\n",
    "else:\n",
    "    print(\"False\")"
   ]
  },
  {
   "cell_type": "markdown",
   "metadata": {},
   "source": [
    "14. Checking for PALINDROME using extended slicing technique"
   ]
  },
  {
   "cell_type": "code",
   "execution_count": 3,
   "metadata": {},
   "outputs": [
    {
     "name": "stdout",
     "output_type": "stream",
     "text": [
      "True\n"
     ]
    }
   ],
   "source": [
    "str1 = \"Kayak\"\n",
    "str1 = \"Kayak\".lower()\n",
    "if str1 == str1[::-1]:\n",
    "    print(\"True\")\n",
    "else:\n",
    "    print(\"False\")"
   ]
  },
  {
   "cell_type": "markdown",
   "metadata": {},
   "source": [
    "15. Counting the white spaces in a string"
   ]
  },
  {
   "cell_type": "code",
   "execution_count": 4,
   "metadata": {},
   "outputs": [
    {
     "name": "stdout",
     "output_type": "stream",
     "text": [
      "4\n"
     ]
    }
   ],
   "source": [
    "string = \"P r gra mm ing\"\n",
    "print(string.count(\" \"))"
   ]
  },
  {
   "cell_type": "markdown",
   "metadata": {},
   "source": [
    "16. Counting digits, letters and spaces in a string"
   ]
  },
  {
   "cell_type": "code",
   "execution_count": 14,
   "metadata": {},
   "outputs": [
    {
     "name": "stdout",
     "output_type": "stream",
     "text": [
      "1\n",
      "8\n",
      "2\n"
     ]
    }
   ],
   "source": [
    "import re\n",
    "\n",
    "name = \"Python is 1\"\n",
    "digitCount = re.sub(\"[^0-9]\",\"\",name) #return 1\n",
    "letterCount = re.sub(\"[^a-zA-z]\",\"\",name) #return Pythonis\n",
    "spaceCount = re.findall(\"[\\s]\",name) #return a list [' ', ' ']\n",
    "\n",
    "print(len(digitCount))\n",
    "print(len(letterCount))\n",
    "print(len(spaceCount))\n"
   ]
  },
  {
   "cell_type": "markdown",
   "metadata": {},
   "source": [
    "17. Counting special characters in a string"
   ]
  },
  {
   "cell_type": "code",
   "execution_count": 3,
   "metadata": {},
   "outputs": [
    {
     "name": "stdout",
     "output_type": "stream",
     "text": [
      "4\n"
     ]
    }
   ],
   "source": [
    "def count_sp_char(string):\n",
    "    sp_char = \"!@#$%^&*()<>?\\/[]{};:~`\"\n",
    "    count = 0\n",
    "    for i in string:\n",
    "        if i in sp_char:\n",
    "            count += 1\n",
    "    return count\n",
    "\n",
    "text = \"Hello! How are you? #specialchars! 123\"\n",
    "result = count_sp_char(text)\n",
    "print(result)"
   ]
  },
  {
   "cell_type": "markdown",
   "metadata": {},
   "source": [
    "18. Removing all whitespace in a string"
   ]
  },
  {
   "cell_type": "code",
   "execution_count": 11,
   "metadata": {},
   "outputs": [
    {
     "name": "stdout",
     "output_type": "stream",
     "text": [
      "CODE\n"
     ]
    }
   ],
   "source": [
    "import re\n",
    "\n",
    "string = \"C O D E\"\n",
    "space = re.compile(r'\\s+')\n",
    "result = re.sub(space,\"\",string)\n",
    "print(result)"
   ]
  },
  {
   "cell_type": "code",
   "execution_count": 12,
   "metadata": {},
   "outputs": [
    {
     "name": "stdout",
     "output_type": "stream",
     "text": [
      "CODE\n"
     ]
    }
   ],
   "source": [
    "string=\"C O D E\"\n",
    "result2 = \"\".join(char for char in string if char != \" \")\n",
    "print(result2)"
   ]
  },
  {
   "cell_type": "code",
   "execution_count": 16,
   "metadata": {},
   "outputs": [
    {
     "name": "stdout",
     "output_type": "stream",
     "text": [
      "CODE\n"
     ]
    }
   ],
   "source": [
    "string = \"C O D E\"\n",
    "result3 = string.replace(\" \",\"\")\n",
    "print(result3)"
   ]
  },
  {
   "cell_type": "markdown",
   "metadata": {},
   "source": [
    "**19. Building a pyramid in python**"
   ]
  },
  {
   "cell_type": "code",
   "execution_count": 28,
   "metadata": {},
   "outputs": [
    {
     "name": "stdout",
     "output_type": "stream",
     "text": [
      "---*\n",
      "--***\n",
      "-*****\n"
     ]
    }
   ],
   "source": [
    "def pyramid(n):\n",
    "    for i in range(n):\n",
    "        for j in range(i,n):\n",
    "            #print(\"-\",end=\"+\") # -+-+-+-+-+-+\n",
    "            print(\"-\",end=\"\") \n",
    "        for j in range(i+1):\n",
    "            print(\"*\",end=\"\") # ---*--**-***\n",
    "        for j in range(i):\n",
    "            print(\"*\",end=\"\") # ---*--***-*****\n",
    "        print(\"\")\n",
    "\n",
    "pyramid(3)"
   ]
  },
  {
   "cell_type": "code",
   "execution_count": 43,
   "metadata": {},
   "outputs": [
    {
     "name": "stdout",
     "output_type": "stream",
     "text": [
      "--*\n",
      "-***\n",
      "*****\n",
      "-***\n",
      "--*\n"
     ]
    }
   ],
   "source": [
    "num = int(input(\"enter odd number\")) #5\n",
    "cnt = num//2 #2\n",
    "scnt = 1\n",
    "for i in range(cnt+1):\n",
    "    print(cnt*\"-\" + \"*\"*scnt)\n",
    "    cnt=cnt-1\n",
    "    scnt=scnt+2\n",
    "# --*\n",
    "# -***\n",
    "# *****\n",
    "\n",
    "scnt = num-2\n",
    "cnt = 1\n",
    "for i in range(num//2):\n",
    "    print(cnt*\"-\" + \"*\"*scnt)\n",
    "    scnt = scnt-2\n",
    "    cnt = cnt+1"
   ]
  },
  {
   "cell_type": "markdown",
   "metadata": {},
   "source": [
    "20. Randomizing the items of a list in python"
   ]
  },
  {
   "cell_type": "code",
   "execution_count": 52,
   "metadata": {},
   "outputs": [
    {
     "name": "stdout",
     "output_type": "stream",
     "text": [
      "['easy', 'is', 'python']\n"
     ]
    }
   ],
   "source": [
    "from random import shuffle\n",
    "list = ['python','is','easy']\n",
    "shuffle(list)\n",
    "print(list)"
   ]
  },
  {
   "cell_type": "markdown",
   "metadata": {},
   "source": [
    "**21. Create a generator to produce first n prime numbers**"
   ]
  },
  {
   "cell_type": "code",
   "execution_count": 9,
   "metadata": {},
   "outputs": [
    {
     "name": "stdout",
     "output_type": "stream",
     "text": [
      "2 3 5 7 11 13 17 19 23 29 "
     ]
    }
   ],
   "source": [
    "def isprime(num):\n",
    "    for i in range(2,num):\n",
    "        if num%i == 0:\n",
    "            return False\n",
    "    return True\n",
    "\n",
    "def prime_generator(n):\n",
    "    num = 2\n",
    "    while n:\n",
    "        if isprime(num):\n",
    "            yield num\n",
    "            n -= 1\n",
    "        num += 1\n",
    "\n",
    "x = int(input(\"Enter no. of prime numbers required\"))\n",
    "item = prime_generator(x)\n",
    "for e in item:\n",
    "    print(e, end=\" \")"
   ]
  },
  {
   "cell_type": "markdown",
   "metadata": {},
   "source": [
    "**22. Implementing variable length arguments in python**"
   ]
  },
  {
   "cell_type": "code",
   "execution_count": 1,
   "metadata": {},
   "outputs": [
    {
     "name": "stdout",
     "output_type": "stream",
     "text": [
      "31.0\n"
     ]
    }
   ],
   "source": [
    "def average(*t): # *t for tuple of variable length\n",
    "    avg = sum(t)/len(t)\n",
    "    return avg\n",
    "\n",
    "result = average(32,5,65,22)\n",
    "print(result)"
   ]
  },
  {
   "cell_type": "code",
   "execution_count": 2,
   "metadata": {},
   "outputs": [
    {
     "name": "stdout",
     "output_type": "stream",
     "text": [
      "31.0\n"
     ]
    }
   ],
   "source": [
    "def average_with_kwargs(**kwargs): # kwargs for a dictionary of variable length\n",
    "    values = list(kwargs.values())\n",
    "    avg = sum(values) / len(values)\n",
    "    return avg\n",
    "\n",
    "result = average_with_kwargs(num1=32,num2=5,num3=65,num4=22)\n",
    "print(result)"
   ]
  },
  {
   "cell_type": "markdown",
   "metadata": {},
   "source": [
    "23. Creating instance member variables in python"
   ]
  },
  {
   "cell_type": "code",
   "execution_count": 6,
   "metadata": {},
   "outputs": [
    {
     "name": "stdout",
     "output_type": "stream",
     "text": [
      "{'a': 5, 'b': 10, 'c': 15}\n",
      "{'a': 5}\n"
     ]
    }
   ],
   "source": [
    "class Test:\n",
    "    def __init__(self):\n",
    "        # 1st instance variable inside init funtion\n",
    "        self.a = 5\n",
    "    def f1(self):\n",
    "        # 2nd instance variable inside function f1\n",
    "        self.b = 10\n",
    "\n",
    "t1 = Test()\n",
    "t2 = Test()\n",
    "t1.f1()\n",
    "# 3rd instance variable\n",
    "t1.c = 15\n",
    "print(t1.__dict__)\n",
    "print(t2.__dict__)"
   ]
  },
  {
   "cell_type": "markdown",
   "metadata": {},
   "source": [
    "**24. Addition using Lambda functions**"
   ]
  },
  {
   "cell_type": "code",
   "execution_count": 9,
   "metadata": {},
   "outputs": [
    {
     "name": "stdout",
     "output_type": "stream",
     "text": [
      "10\n",
      "10\n"
     ]
    }
   ],
   "source": [
    "# Lambda function to add two variables\n",
    "f = lambda a,b : a+b\n",
    "result = f(3,7)\n",
    "print(result)\n",
    "#OR\n",
    "print((lambda a,b : a+b) (3,7))"
   ]
  },
  {
   "cell_type": "markdown",
   "metadata": {},
   "source": [
    "25. Finding factorial using lambda function"
   ]
  },
  {
   "cell_type": "code",
   "execution_count": 1,
   "metadata": {},
   "outputs": [
    {
     "data": {
      "text/plain": [
       "120"
      ]
     },
     "execution_count": 1,
     "metadata": {},
     "output_type": "execute_result"
    }
   ],
   "source": [
    "f = lambda n: 1 if n==0 else n*f(n-1)\n",
    "f(5)"
   ]
  },
  {
   "cell_type": "code",
   "execution_count": 6,
   "metadata": {},
   "outputs": [
    {
     "name": "stdout",
     "output_type": "stream",
     "text": [
      "The factorial of 3 is 6\n"
     ]
    }
   ],
   "source": [
    "num = int(input(\"Enter a number:\"))\n",
    "\n",
    "factorial=1\n",
    "if num<0:\n",
    "    print(\"Sorry, factorial does not exist for negative numbers\")\n",
    "elif num==0:\n",
    "    print(\"The factorial of 0 is 1\")\n",
    "else:\n",
    "    for i in range(1,num+1):\n",
    "        factorial = factorial*i\n",
    "    print(f\"The factorial of {num} is\", factorial)\n",
    "    # print(f\"The factorial of {num} is {factorial}\")\n",
    "\n"
   ]
  },
  {
   "cell_type": "markdown",
   "metadata": {},
   "source": [
    "26. List compression (to create a list in single line)"
   ]
  },
  {
   "cell_type": "code",
   "execution_count": 8,
   "metadata": {},
   "outputs": [
    {
     "name": "stdout",
     "output_type": "stream",
     "text": [
      "[2, 4, 6, 8, 10, 12, 14, 16, 18]\n",
      "[22]\n"
     ]
    }
   ],
   "source": [
    "# list of even numbers\n",
    "l1 = [2*e for e in range(1,10)]\n",
    "print(l1)\n",
    "\n",
    "# to create a list of even numbers from a given list\n",
    "list = [23,55,65,22]\n",
    "l2 = [e for e in list if e%2 == 0]\n",
    "print(l2)"
   ]
  },
  {
   "cell_type": "markdown",
   "metadata": {},
   "source": [
    "27. What is the use of split and join function of str?"
   ]
  },
  {
   "cell_type": "code",
   "execution_count": 9,
   "metadata": {},
   "outputs": [
    {
     "name": "stdout",
     "output_type": "stream",
     "text": [
      "['What', 'is', 'right', 'in', 'your', 'mind', 'is', 'right', 'in', 'your', 'world']\n",
      "['world', 'your', 'in', 'right', 'is', 'mind', 'your', 'in', 'right', 'is', 'What']\n",
      "world your in right is mind your in right is What\n"
     ]
    }
   ],
   "source": [
    "s = \"What is right in your mind is right in your world\"\n",
    "\n",
    "# split => to convert string into list of string\n",
    "s1 = s.split(\" \")\n",
    "print(s1)\n",
    "\n",
    "s1 = s1[::-1]\n",
    "print(s1)\n",
    "\n",
    "# join => to convert the list again into string\n",
    "print(\" \".join(s1))"
   ]
  },
  {
   "cell_type": "markdown",
   "metadata": {},
   "source": [
    "28. Global and local variable"
   ]
  },
  {
   "cell_type": "code",
   "execution_count": 10,
   "metadata": {},
   "outputs": [
    {
     "name": "stdout",
     "output_type": "stream",
     "text": [
      "x=15 y=10\n",
      "15\n"
     ]
    }
   ],
   "source": [
    "x = 5 # global variable\n",
    "def f1():\n",
    "    global x\n",
    "    x = 15 # global variable updated\n",
    "    y = 10 # local variable\n",
    "    print(\"x=%d y=%d\" % (x,y))\n",
    "f1()\n",
    "print(x)"
   ]
  },
  {
   "cell_type": "markdown",
   "metadata": {},
   "source": [
    "29. Global function"
   ]
  },
  {
   "cell_type": "code",
   "execution_count": 12,
   "metadata": {},
   "outputs": [
    {
     "name": "stdout",
     "output_type": "stream",
     "text": [
      "local x=10 global x=5\n"
     ]
    }
   ],
   "source": [
    "# global function returns dictionary\n",
    "# you can use the globals() function to access or modify global variables within a function or code block\n",
    "x=5 # global variable\n",
    "def fun():\n",
    "    x=10 # local variable\n",
    "    d = globals() # d is dictionary\n",
    "    print(\"local x=%d global x=%d\" % (x,d['x']))\n",
    "fun()"
   ]
  },
  {
   "cell_type": "markdown",
   "metadata": {},
   "source": [
    "30. Type conversion basics"
   ]
  },
  {
   "cell_type": "code",
   "execution_count": 15,
   "metadata": {},
   "outputs": [
    {
     "name": "stdout",
     "output_type": "stream",
     "text": [
      "123\n",
      "123.42\n",
      "(3+4j)\n",
      "12\n",
      "True\n",
      "0b11001\n",
      "0o31\n",
      "0x19\n",
      "65\n",
      "b\n"
     ]
    }
   ],
   "source": [
    "a = int('123')\n",
    "b = float('123.42')\n",
    "c = complex('3+4j')\n",
    "d = str(12)\n",
    "e = bool('True')\n",
    "f = bin(25) # binary\n",
    "g = oct(25)\n",
    "h = hex(25)\n",
    "i = ord('A') # char to unicode\n",
    "j = chr(98) # unicode to character\n",
    "print(a,b,c,d,e,f,g,h,i,j, sep=\"\\n\")"
   ]
  },
  {
   "cell_type": "markdown",
   "metadata": {},
   "source": [
    "31. Type conversion"
   ]
  },
  {
   "cell_type": "code",
   "execution_count": 19,
   "metadata": {},
   "outputs": [
    {
     "name": "stdout",
     "output_type": "stream",
     "text": [
      "<class 'int'>\n",
      "<class 'str'>\n",
      "5123\n",
      "128\n"
     ]
    }
   ],
   "source": [
    "x=5\n",
    "print(type(x))\n",
    "s='123'\n",
    "print(type(s))\n",
    "print(str(x) + s)\n",
    "print(x + int(s))"
   ]
  },
  {
   "cell_type": "markdown",
   "metadata": {},
   "source": [
    "**32. What is python decorator?**\n",
    "\n",
    "General Use Cases for Decorators:\n",
    "* Logging: Tracking function calls or arguments.\n",
    "* Access Control: Restricting user access.\n",
    "* Performance Measurement: Timing execution.\n",
    "* Memoization: Caching function results."
   ]
  },
  {
   "cell_type": "code",
   "execution_count": 4,
   "metadata": {},
   "outputs": [
    {
     "name": "stdout",
     "output_type": "stream",
     "text": [
      "Before hello function\n",
      "Hello !\n",
      "Thanks for using the function\n",
      "Before hello function\n",
      "4\n",
      "Thanks for using the function\n"
     ]
    }
   ],
   "source": [
    "# Function decorator\n",
    "def welcome(fx):\n",
    "    def mfx(*t,**d):\n",
    "        print(\"Before hello function\")\n",
    "        fx(*t,**d) # args to take arguments as tuple, **kwargs to take argument\n",
    "        print(\"Thanks for using the function\")\n",
    "    return mfx\n",
    "\n",
    "# *t: Captures positional arguments as a tuple.\n",
    "# **d: Captures keyword arguments as a dictionary.\n",
    "\n",
    "# decorator function without arguments\n",
    "@welcome\n",
    "def hello():\n",
    "    print(\"Hello !\")\n",
    "\n",
    "# decorator function with arguments\n",
    "@welcome\n",
    "def add(a,b):\n",
    "    print(a+b)\n",
    "\n",
    "hello()\n",
    "add(1,3)"
   ]
  },
  {
   "cell_type": "code",
   "execution_count": 6,
   "metadata": {},
   "outputs": [
    {
     "data": {
      "text/plain": [
       "900"
      ]
     },
     "execution_count": 6,
     "metadata": {},
     "output_type": "execute_result"
    }
   ],
   "source": [
    "# Class decorator\n",
    "class Calculator:\n",
    "    def __init__(self,func):\n",
    "        self.function = func\n",
    "\n",
    "    def __call__(self,*t,**d):\n",
    "        result = self.function(*t,**d)\n",
    "        return result**2\n",
    "\n",
    "@Calculator\n",
    "def add(a,b):\n",
    "    return a+b\n",
    "\n",
    "# add = Calculator(add)\n",
    "add(10,20) # add.__call__(a,b) since function type is callable"
   ]
  },
  {
   "cell_type": "code",
   "execution_count": 9,
   "metadata": {},
   "outputs": [
    {
     "name": "stdout",
     "output_type": "stream",
     "text": [
      "PASS\n",
      "DISTINCTION\n",
      "PASS\n",
      "DISTINCTION\n",
      "PASS\n",
      "FAIL\n",
      "PASS\n",
      "DISTINCTION\n",
      "PASS\n",
      "Results: ['PASS', 'PASS', 'PASS', 'FAIL', 'PASS', 'PASS']\n"
     ]
    }
   ],
   "source": [
    "# Decorators are used to modify the behavior of functions or methods without changing their code.\n",
    "# Decorator function is a function that takes another functions as their argument.\n",
    "\n",
    "def decor_result(result_function):\n",
    "    def distinction(marks):\n",
    "        results = [] # list to store results for each element\n",
    "        for m in marks:\n",
    "            if m >= 75:\n",
    "                print(\"DISTINCTION\")\n",
    "            results.append(result_function([m])) # pass a list with the current mark =>\n",
    "            # Calls the original result function for each mark wrapped in a list ([m]). =>\n",
    "            # Collects the return value (PASS or FAIL) for each mark into the results list.\n",
    "        return results # return the collected results\n",
    "    return distinction\n",
    "\n",
    "@decor_result\n",
    "def result(marks):\n",
    "    for m in marks:\n",
    "        if m >= 33:\n",
    "            pass\n",
    "        else:\n",
    "            print(\"FAIL\")\n",
    "            return \"FAIL\" # return FAIL if any element fails\n",
    "\n",
    "    else:\n",
    "        print(\"PASS\")\n",
    "        return \"PASS\" # return PASS if all elements pass\n",
    "\n",
    "# get the result for each element\n",
    "results = result([45,78,80,32,66,90])\n",
    "print(\"Results:\", results)"
   ]
  },
  {
   "cell_type": "markdown",
   "metadata": {},
   "source": [
    "**33. What are generators in python? Create a generator for first n natural even numbers.**\n",
    "\n",
    "Generators in Python are a type of iterable, like lists or tuples, but they allow you to iterate over their elements lazily, one at a time, on-the-fly. This means that generators generate values as you need them, rather than storing all values in memory at once. This can be highly **memory-efficient**, especially when dealing with large datasets or when generating an infinite sequence."
   ]
  },
  {
   "cell_type": "code",
   "execution_count": 2,
   "metadata": {},
   "outputs": [
    {
     "name": "stdout",
     "output_type": "stream",
     "text": [
      "[2, 4, 6, 8, 10, 12, 14, 16, 18, 20]\n"
     ]
    }
   ],
   "source": [
    "def evenNum(n):\n",
    "    i = 1\n",
    "    while n:\n",
    "        yield 2*i\n",
    "        i+=1\n",
    "        n-=1\n",
    "it = evenNum(10)\n",
    "even_list=[]\n",
    "while True:\n",
    "    try:\n",
    "        even_list.append(next(it))\n",
    "    except StopIteration:\n",
    "        break\n",
    "print(even_list)"
   ]
  },
  {
   "cell_type": "markdown",
   "metadata": {},
   "source": [
    "**34. Is function overloading allowed in python?**\n",
    "\n",
    "In Python, function overloading as seen in languages like C++ or Java is not directly supported. However, Python provides several ways to achieve similar behavior through **default argumnets**, **variable-length arguments**, and more advanced tachniques like using **functools.singledispatch**.\n",
    "\n",
    "1. Using default arguments\n",
    "\n",
    "You can use default arguments to provide different behavior based on the number of arguments passed."
   ]
  },
  {
   "cell_type": "code",
   "execution_count": 4,
   "metadata": {},
   "outputs": [
    {
     "name": "stdout",
     "output_type": "stream",
     "text": [
      "Hello, Kelly!\n",
      "Hi, Amy!\n"
     ]
    }
   ],
   "source": [
    "def greet(name, greeting=\"Hello\"):\n",
    "    return f\"{greeting}, {name}!\"\n",
    "\n",
    "print(greet(\"Kelly\"))\n",
    "print(greet(\"Amy\",\"Hi\"))"
   ]
  },
  {
   "cell_type": "markdown",
   "metadata": {},
   "source": [
    "2. Using variable-length arguments\n",
    "\n",
    "You can use *args and **kwargs to accept a variable number of arguments."
   ]
  },
  {
   "cell_type": "code",
   "execution_count": 6,
   "metadata": {},
   "outputs": [
    {
     "name": "stdout",
     "output_type": "stream",
     "text": [
      "4\n",
      "15\n"
     ]
    }
   ],
   "source": [
    "def add(*t):\n",
    "    return sum(t)\n",
    "print(add(1,3))\n",
    "print(add(1,3,5,6))"
   ]
  },
  {
   "cell_type": "markdown",
   "metadata": {},
   "source": [
    "3. Using functools.singledispatch\n",
    "\n",
    "The functools.singeldispatch decorator allows you to create a single-dispatch generic function, which can have different implementations based on the type of the first argument."
   ]
  },
  {
   "cell_type": "code",
   "execution_count": 8,
   "metadata": {},
   "outputs": [
    {
     "name": "stdout",
     "output_type": "stream",
     "text": [
      "Processing an integer: 10\n",
      "Processing a string: hello\n"
     ]
    }
   ],
   "source": [
    "from functools import singledispatch\n",
    "\n",
    "@singledispatch\n",
    "def process(value):\n",
    "    raise NotImplementedError(\"Unsupported type\")\n",
    "\n",
    "@process.register(int)\n",
    "def _(value):\n",
    "    return f\"Processing an integer: {value}\"\n",
    "\n",
    "@process.register(str)\n",
    "def _(value):\n",
    "    return f\"Processing a string: {value}\"\n",
    "\n",
    "print(process(10))\n",
    "print(process(\"hello\"))    "
   ]
  },
  {
   "cell_type": "markdown",
   "metadata": {},
   "source": [
    "4. Using class methods\n",
    "\n",
    "You can also achieve overloading behavior using class methods."
   ]
  },
  {
   "cell_type": "code",
   "execution_count": 10,
   "metadata": {},
   "outputs": [
    {
     "name": "stdout",
     "output_type": "stream",
     "text": [
      "6\n",
      "120\n"
     ]
    }
   ],
   "source": [
    "class Math:\n",
    "    @staticmethod\n",
    "    def multiply(a,b):\n",
    "        return a*b\n",
    "    \n",
    "    @staticmethod\n",
    "    def multiply(a,b,c):\n",
    "        return a*b*c\n",
    "    \n",
    "# Python does not support method overloading, so the last defined method will be the one that is used.\n",
    "# To achieve overloading like behavior, you can use different method names or variable-length arguments.\n",
    "\n",
    "class Math:\n",
    "    @staticmethod\n",
    "    def multiply(*t):\n",
    "        result=1\n",
    "        for num in t:\n",
    "            result *= num\n",
    "        return result\n",
    "\n",
    "print(Math.multiply(2,3))\n",
    "print(Math.multiply(2,3,4,5))"
   ]
  },
  {
   "cell_type": "markdown",
   "metadata": {},
   "source": [
    "35. What are positional arguments in python?\n",
    "\n",
    "There are two types of arguments in python, positional arguments and keyword arguments. Keyword arguments are assigned with the keywords that are defined with the functionl. Keyword arguments should always be declared after the positional arguments."
   ]
  },
  {
   "cell_type": "code",
   "execution_count": 13,
   "metadata": {},
   "outputs": [
    {
     "name": "stdout",
     "output_type": "stream",
     "text": [
      "a= 3 , b= 5\n",
      "a= 30 , b= 4\n",
      "a= 23 , b= 34\n"
     ]
    }
   ],
   "source": [
    "def f1(a,b):\n",
    "    print(\"a=\",a, \", b=\", b)\n",
    "f1(3,5)\n",
    "f1(30,b=4)\n",
    "f1(a=23,b=34)\n",
    "# f1(b=30,5) # syntax error (compile time error)\n",
    "# f1(2,a=10) # type error: multiple values of a (run time error)\n",
    "\n",
    "# Compile time is the period when the programming code (such as Python) is converted to the machine code (i.e. binary code).\n",
    "# Runtime is the period of time when a program is running and generally occurs after compile time."
   ]
  },
  {
   "cell_type": "markdown",
   "metadata": {},
   "source": [
    "**36. Difference between sorted and sort function in python.**\n",
    "\n",
    "Sorted is a predefined function all the iterables in python, which returns a new list in sorted form."
   ]
  },
  {
   "cell_type": "code",
   "execution_count": 16,
   "metadata": {},
   "outputs": [
    {
     "name": "stdout",
     "output_type": "stream",
     "text": [
      "[32, 34, 64, 78, 88]\n",
      "<class 'list'>\n"
     ]
    }
   ],
   "source": [
    "t1 = (34,64,32,78,88)\n",
    "s_t1 = sorted(t1)\n",
    "print(s_t1)\n",
    "print(type(s_t1))"
   ]
  },
  {
   "cell_type": "code",
   "execution_count": 21,
   "metadata": {},
   "outputs": [
    {
     "name": "stdout",
     "output_type": "stream",
     "text": [
      "[32, 34, 64, 78, 88]\n",
      "<class 'list'>\n"
     ]
    }
   ],
   "source": [
    "l1 = [34,64,32,78,88]\n",
    "l1.sort()\n",
    "print(l1)\n",
    "print(type(l1))"
   ]
  },
  {
   "cell_type": "code",
   "execution_count": 19,
   "metadata": {},
   "outputs": [
    {
     "name": "stdout",
     "output_type": "stream",
     "text": [
      "Collecting sortedcontainers\n",
      "  Using cached sortedcontainers-2.4.0-py2.py3-none-any.whl.metadata (10 kB)\n",
      "Using cached sortedcontainers-2.4.0-py2.py3-none-any.whl (29 kB)\n",
      "Installing collected packages: sortedcontainers\n",
      "Successfully installed sortedcontainers-2.4.0\n"
     ]
    },
    {
     "name": "stderr",
     "output_type": "stream",
     "text": [
      "\n",
      "[notice] A new release of pip is available: 24.2 -> 24.3.1\n",
      "[notice] To update, run: python.exe -m pip install --upgrade pip\n"
     ]
    }
   ],
   "source": [
    "!pip install sortedcontainers"
   ]
  },
  {
   "cell_type": "code",
   "execution_count": 22,
   "metadata": {},
   "outputs": [
    {
     "name": "stdout",
     "output_type": "stream",
     "text": [
      "[32, 34, 64, 78, 88, 45]\n",
      "SortedList([32, 34, 45, 64, 78, 88])\n"
     ]
    }
   ],
   "source": [
    "l1.append(45)\n",
    "print(l1)\n",
    "\n",
    "from sortedcontainers import SortedList\n",
    "l2=SortedList(l1)\n",
    "print(l2)"
   ]
  },
  {
   "cell_type": "markdown",
   "metadata": {},
   "source": [
    "**37. How to create static member variables in class?**\n",
    "\n",
    "Static variables are shared among all instances of a class and are typically used to store class-level data.\n",
    "\n",
    "**Class method:** Use @classmethod when you need to access or modify the class state or call the method on the class itself.<br> **Static method:** Use @staticmethod for utility functions that don't need to access or modify class or instance state but logically belong to the class.\n",
    "\n",
    "Static methods are methods that are bound to a class rather than an instance and do not have access to insatnce-specific data. To declare a static method, use the @staticmethod decorator before defining the methods.\n",
    "\n",
    "Use case: Static methods are typically used for utility functions that perform a task in isolation and do not need to access or modify class or instance data.\n",
    "\n",
    "* Static variables: a is defined as a static variable directly within the class body. b,c,d,e and f are also static variables, but they are defined within methods. g is defined as a static variable outside the class body.\n",
    "\n",
    "* Instance variables: x is an instance variable, initialized within the init method."
   ]
  },
  {
   "cell_type": "code",
   "execution_count": null,
   "metadata": {},
   "outputs": [],
   "source": [
    "class myclass:\n",
    "    a = 5 # static varible\n",
    "    def __init__(self):\n",
    "        self.x = 10 # instance variable - can be used anywhere in class using ...\n",
    "        y = 4 # local variable\n",
    "        myclass.b = 34 # static varible\n",
    "    \n",
    "    def f1(self):\n",
    "        myclass.c = 65 # static variable\n",
    "   \n",
    "    @staticmethod\n",
    "    def f2(self):\n",
    "        myclass.d = 66 # static variable\n",
    "    \n",
    "    @classmethod\n",
    "    def f3(cls):\n",
    "        cls.e = 15 # static variable\n",
    "        myclass.f = 53 # static varible\n",
    "\n",
    "myclass.g = 11 # static varible\n"
   ]
  },
  {
   "cell_type": "code",
   "execution_count": null,
   "metadata": {},
   "outputs": [],
   "source": [
    "# 1. Static Variables (Class Variables):\n",
    "# Shared state across all instances or modifying shared state in a class-wide way \n",
    "# ex: Counting instances, configuration settings \n",
    "class Counter:\n",
    "    count = 0  # Static variable to track the number of instances\n",
    "\n",
    "    def __init__(self):\n",
    "        Counter.count += 1\n",
    "\n",
    "# Create instances\n",
    "c1 = Counter()\n",
    "c2 = Counter()\n",
    "\n",
    "print(Counter.count)  # Output: 2"
   ]
  },
  {
   "cell_type": "code",
   "execution_count": null,
   "metadata": {},
   "outputs": [],
   "source": [
    "# 2. Instance Variables:\n",
    "# Unique state for individual instances, ex: Name, age, or unique attributes\n",
    "class Person:\n",
    "    def __init__(self, name, age):\n",
    "        self.name = name  # Instance variable\n",
    "        self.age = age    # Instance variable\n",
    "\n",
    "# Create instances\n",
    "p1 = Person(\"Alice\", 25)\n",
    "p2 = Person(\"Bob\", 30)\n",
    "\n",
    "print(p1.name, p1.age)  # Output: Alice 25\n",
    "print(p2.name, p2.age)  # Output: Bob 30"
   ]
  },
  {
   "cell_type": "code",
   "execution_count": null,
   "metadata": {},
   "outputs": [],
   "source": [
    "# 3. Local Variables:\n",
    "# Temporary calculations inside methods, ex: Adjust shared state programmatically\n",
    "class Calculator:\n",
    "    def add(self, a, b):\n",
    "        result = a + b  # Local variable\n",
    "        return result\n",
    "\n",
    "calc = Calculator()\n",
    "print(calc.add(5, 3))  # Output: 8"
   ]
  },
  {
   "cell_type": "markdown",
   "metadata": {},
   "source": [
    "38. How to use else with loop in python?\n",
    "\n",
    "Else can be used with if and while loops in python. After the break statement in the loop the else statement is not executed. Else statement is only executed when the condition of the loop is false."
   ]
  },
  {
   "cell_type": "code",
   "execution_count": 1,
   "metadata": {},
   "outputs": [
    {
     "name": "stdout",
     "output_type": "stream",
     "text": [
      "1 2 3 4 5 "
     ]
    }
   ],
   "source": [
    "i=1\n",
    "while i<=10:\n",
    "    print(i,end=\" \")\n",
    "    if i==5:\n",
    "        break\n",
    "    i+=1\n",
    "else:\n",
    "    print(\"You are in else\")"
   ]
  },
  {
   "cell_type": "code",
   "execution_count": 2,
   "metadata": {},
   "outputs": [
    {
     "name": "stdout",
     "output_type": "stream",
     "text": [
      "1 2 3 4 5 6 7 8 9 10 You are in else\n"
     ]
    }
   ],
   "source": [
    "i=1\n",
    "while i<=10:\n",
    "    print(i,end=\" \")\n",
    "    if i==12:\n",
    "        break\n",
    "    i+=1\n",
    "else:\n",
    "    print(\"You are in else\")"
   ]
  },
  {
   "cell_type": "code",
   "execution_count": 7,
   "metadata": {},
   "outputs": [
    {
     "name": "stdout",
     "output_type": "stream",
     "text": [
      "0 1 2 3 4 5 6 7 8 9 You are in else\n"
     ]
    }
   ],
   "source": [
    "for i in range(10):\n",
    "    print(i, end=\" \")\n",
    "    if i==12:\n",
    "        break\n",
    "else:\n",
    "    print(\"You are in else\")\n"
   ]
  },
  {
   "cell_type": "markdown",
   "metadata": {},
   "source": [
    "**39. What is name mingling in python?**\n",
    "\n",
    "When a variable is initialized with doubel underscore, its name is automatically changed by python to __class__variableName. This phenomenon is called Name Mingling in python.\n",
    "\n",
    "Name mangliing is a technique used in programming to generate unique names for entities like functions and variables to avoid name coolisions. THis is especially important in languages with features like function overloading and namespaces. The main purposes of name magling are:\n",
    "\n",
    "1. **Avoiding Name Collisions:** Ensure unqique names for entities with the same name in differnt scopes or modules.\n",
    "2. **Supporting Function Overloading:** Encodes function names with parameter types to differentiate overlaoded functions.\n",
    "3. **Encapuslating Namespaces and Classes:** Incorporates namespace or class names into entity names to maintain uniqueness within different contexts.\n",
    "4. **Linker compatibility:** Helps the linker correctly match references to their definitions across separate compilation units.\n",
    "5. **Debugging and Maintenance:** Makes relationships between code parts clearer, aiding in debugging and meintenance.\n",
    "\n",
    "For example, in C++, two functions Foo::display(int) and Bar::display(int) would be magled to unique names like _ZN3Foo7displayEi and _ZN3Bar7displayEi, incorporating the namespace and parameter type information."
   ]
  },
  {
   "cell_type": "code",
   "execution_count": 6,
   "metadata": {},
   "outputs": [
    {
     "name": "stdout",
     "output_type": "stream",
     "text": [
      "10\n",
      "20\n"
     ]
    }
   ],
   "source": [
    "class world:\n",
    "    x=10\n",
    "    __india=20\n",
    "print(world.x)\n",
    "print(world._world__india)"
   ]
  },
  {
   "cell_type": "markdown",
   "metadata": {},
   "source": [
    "40. What is difference between class object and instance object?\n",
    "\n",
    "Class object is called only once, instance object can be called any no. of times.<br> (This happens only once because the class itself serves as a blueprint, and creating multiple class objects would be redundant.)\n",
    "\n",
    "Class object declared with calss.object\n",
    "\n",
    "Instance object is declared with t1 = class(positional arguments) and where the first argument is instance object(t1) implicitly. Also init method is called implicitly after declaring instance object."
   ]
  },
  {
   "cell_type": "code",
   "execution_count": 1,
   "metadata": {},
   "outputs": [
    {
     "name": "stdout",
     "output_type": "stream",
     "text": [
      "20\n",
      "4 5\n",
      "4\n",
      "5\n"
     ]
    }
   ],
   "source": [
    "class test:\n",
    "    x=20\n",
    "    def __init__(self, a ,b):\n",
    "        self.a = a # instance member argument\n",
    "        self.b = b # instance member argument\n",
    "    def show(self):\n",
    "        print(self.a, self.b)\n",
    "\n",
    "print(test.x) # class object\n",
    "t1 = test(4,5) # instance object\n",
    "t1.show()\n",
    "\n",
    "# displaying instance variables directly\n",
    "print(t1.a)\n",
    "print(t1.b)\n",
    "\n",
    "# Class object => When the behavior or data is common to all objects. ex: Database connection pool, configuration settings\n",
    "# Instance object => When each object needs its own unique data. ex: Individual user accounts, bank accounts\n",
    "\n"
   ]
  },
  {
   "cell_type": "markdown",
   "metadata": {},
   "source": [
    "41. What is init method in python?\n",
    "\n",
    "**init** method is just like contructor in C++ and JAVA. But incase of C++ and JAVA if we don't create a constructor the program creates one implicitly. Incase of python we have create **init** method explicitly."
   ]
  },
  {
   "cell_type": "code",
   "execution_count": 2,
   "metadata": {},
   "outputs": [
    {
     "name": "stdout",
     "output_type": "stream",
     "text": [
      "10 20\n"
     ]
    }
   ],
   "source": [
    "class test:\n",
    "    def __init__(self):\n",
    "        self.a=10\n",
    "        self.b=20\n",
    "t1 = test() # no need to provide the arguments\n",
    "print(t1.a,t1.b)"
   ]
  },
  {
   "cell_type": "markdown",
   "metadata": {},
   "source": [
    "42. What are default arguments in functions?\n",
    "\n",
    "The arguments that are declared and assigned a value while creating a function are called default arguments.\n",
    "\n",
    "It is not allowed to have non-default arguments after default arguments."
   ]
  },
  {
   "cell_type": "code",
   "execution_count": 3,
   "metadata": {},
   "outputs": [
    {
     "name": "stdout",
     "output_type": "stream",
     "text": [
      "The addition is: 10\n"
     ]
    }
   ],
   "source": [
    "def add(a, b, c=5): # c is default argument\n",
    "    return a+b+c\n",
    "\n",
    "s = add(2,3)\n",
    "print(\"The addition is:\", s)"
   ]
  },
  {
   "cell_type": "markdown",
   "metadata": {},
   "source": [
    "43. Extract int type values from a list of heterogeneous element?"
   ]
  },
  {
   "cell_type": "code",
   "execution_count": 4,
   "metadata": {},
   "outputs": [
    {
     "name": "stdout",
     "output_type": "stream",
     "text": [
      "['abc', 34.56, 32, (3+4j), 'b', 55, 65.7, '90', 180]\n",
      "[32, 55, 180]\n"
     ]
    }
   ],
   "source": [
    "l1 = ['abc',34.56,32,3+4j,'b',55,65.7,'90',180]\n",
    "print(l1)\n",
    "l2 = []\n",
    "for e in l1:\n",
    "    if type(e)==int:\n",
    "        l2.append(e)\n",
    "print(l2)"
   ]
  },
  {
   "cell_type": "markdown",
   "metadata": {},
   "source": [
    "**44. Does python support multiple inheritance?**\n",
    "\n",
    "When a class inherits attributes from more than one class it is called multiple inheritance.\n",
    "\n",
    "Python supports multiple inheritance."
   ]
  },
  {
   "cell_type": "code",
   "execution_count": 6,
   "metadata": {},
   "outputs": [
    {
     "name": "stdout",
     "output_type": "stream",
     "text": [
      "Method from A1\n",
      "Method from A2\n",
      "Method from B\n"
     ]
    }
   ],
   "source": [
    "class A1:\n",
    "    def method_A1(self):\n",
    "        return \"Method from A1\"\n",
    "class A2:\n",
    "    def method_A2(self):\n",
    "        return \"Method from A2\"\n",
    "class B(A1,A2):\n",
    "    def method_B(self):\n",
    "        return \"Method from B\"\n",
    "b_instance = B()\n",
    "print(b_instance.method_A1())\n",
    "print(b_instance.method_A2())\n",
    "print(b_instance.method_B())"
   ]
  },
  {
   "cell_type": "markdown",
   "metadata": {},
   "source": [
    "**45. What is monkey patching?**\n",
    "\n",
    "Monkey patching is replace a function object with a new function object, so that the function is now pointing to new funciton object. Mostly used when you want to replace a function for testing purpose."
   ]
  },
  {
   "cell_type": "code",
   "execution_count": 9,
   "metadata": {},
   "outputs": [
    {
     "name": "stdout",
     "output_type": "stream",
     "text": [
      "Before monkey patching\n",
      "\n",
      "send code to fetch data from database\n",
      "send code to fetch data from database\n",
      "\n",
      "After monkey pathcing\n",
      "\n",
      "Some to code fetch data from test data\n",
      "Some to code fetch data from test data\n"
     ]
    }
   ],
   "source": [
    "class Test:\n",
    "    def __init__(self,x):\n",
    "        self.a = x\n",
    "    def get_data(self):\n",
    "        print(\"send code to fetch data from database\")\n",
    "    def f1(self):\n",
    "        self.get_data()\n",
    "    def f2(self):\n",
    "        self.get_data()\n",
    "\n",
    "t1 = Test(4)\n",
    "print(\"Before monkey patching\\n\")\n",
    "t1.f1()\n",
    "t1.f2()\n",
    "\n",
    "def get_new_data(self):\n",
    "    print(\"Some to code fetch data from test data\")\n",
    "Test.get_data = get_new_data\n",
    "print(\"\\nAfter monkey pathcing\\n\")\n",
    "t1.f1()\n",
    "t1.f2()\n"
   ]
  },
  {
   "cell_type": "markdown",
   "metadata": {},
   "source": [
    "46. Accept a number user check whether it is prime or not"
   ]
  },
  {
   "cell_type": "code",
   "execution_count": null,
   "metadata": {},
   "outputs": [
    {
     "name": "stdout",
     "output_type": "stream",
     "text": [
      "number is not prime\n"
     ]
    }
   ],
   "source": [
    "num=int(input(\"Enter number\")) # 6\n",
    "for i in range(2,num):\n",
    "    if num%i==0:\n",
    "        print(\"number is not prime\")\n",
    "        break\n",
    "else:\n",
    "    print(\"number is prime\")"
   ]
  },
  {
   "cell_type": "markdown",
   "metadata": {},
   "source": [
    "47. Write a program to print the given number is odd or even"
   ]
  },
  {
   "cell_type": "code",
   "execution_count": 8,
   "metadata": {},
   "outputs": [
    {
     "name": "stdout",
     "output_type": "stream",
     "text": [
      "Entered number 6 is even\n"
     ]
    }
   ],
   "source": [
    "num=int(input(\"Enter a number: \"))\n",
    "if num%2==0:\n",
    "    print(f\"Entered number {num} is even\")\n",
    "else:\n",
    "    print(f\"Entered number {num} is odd\")"
   ]
  },
  {
   "cell_type": "markdown",
   "metadata": {},
   "source": [
    "48. Write a program to find the given number is positive or negative"
   ]
  },
  {
   "cell_type": "code",
   "execution_count": 13,
   "metadata": {},
   "outputs": [
    {
     "name": "stdout",
     "output_type": "stream",
     "text": [
      "Number is negative\n"
     ]
    }
   ],
   "source": [
    "num=float(input(\"Enter number:\")) # -5.2\n",
    "if num>0:\n",
    "    print(\"Number is positive\")\n",
    "elif num<0:\n",
    "    print(\"Number is negative\")\n",
    "else:\n",
    "    print(\"Number is zero\")"
   ]
  },
  {
   "cell_type": "markdown",
   "metadata": {},
   "source": [
    "49. Write a program to find the sum of two numbers"
   ]
  },
  {
   "cell_type": "code",
   "execution_count": 14,
   "metadata": {},
   "outputs": [
    {
     "name": "stdout",
     "output_type": "stream",
     "text": [
      "num1 + num2 =  3\n"
     ]
    }
   ],
   "source": [
    "num1=int(input(\"Enter number1:\"))\n",
    "num2=int(input(\"Enter number2:\"))\n",
    "print(f\"num1 + num2 = \", num1+num2)"
   ]
  },
  {
   "cell_type": "markdown",
   "metadata": {},
   "source": [
    "**50. Write a program to find Greatest common divisor (GCD) of two numbers**"
   ]
  },
  {
   "cell_type": "code",
   "execution_count": 17,
   "metadata": {},
   "outputs": [
    {
     "name": "stdout",
     "output_type": "stream",
     "text": [
      "The GCD of 4 and 16 is 4\n"
     ]
    }
   ],
   "source": [
    "def find_gcd(a, b):\n",
    "    while b:\n",
    "        a, b = b, a%b # keep replacing a with b and b with remainder\n",
    "    return a\n",
    "\n",
    "num1 = int(input(\"Enter number1:\"))\n",
    "num2 = int(input(\"Enter number2:\"))\n",
    "gcd = find_gcd(num1, num2)\n",
    "print(f\"The GCD of {num1} and {num2} is {gcd}\")"
   ]
  },
  {
   "cell_type": "code",
   "execution_count": 20,
   "metadata": {},
   "outputs": [
    {
     "name": "stdout",
     "output_type": "stream",
     "text": [
      "The GCD of 5 and 17 is 1\n"
     ]
    }
   ],
   "source": [
    "import math\n",
    "num1 = int(input(\"Enter number1:\"))\n",
    "num2 = int(input(\"Enter number2:\"))\n",
    "gcd = math.gcd(num1,num2)\n",
    "print(f\"The GCD of {num1} and {num2} is {gcd}\")"
   ]
  },
  {
   "cell_type": "markdown",
   "metadata": {},
   "source": [
    "51. Write a program to print the following pattern"
   ]
  },
  {
   "cell_type": "code",
   "execution_count": null,
   "metadata": {},
   "outputs": [],
   "source": []
  }
 ],
 "metadata": {
  "kernelspec": {
   "display_name": "pytorch",
   "language": "python",
   "name": "python3"
  },
  "language_info": {
   "codemirror_mode": {
    "name": "ipython",
    "version": 3
   },
   "file_extension": ".py",
   "mimetype": "text/x-python",
   "name": "python",
   "nbconvert_exporter": "python",
   "pygments_lexer": "ipython3",
   "version": "3.10.0"
  }
 },
 "nbformat": 4,
 "nbformat_minor": 2
}
